{
 "cells": [
  {
   "cell_type": "code",
   "execution_count": null,
   "id": "a27c1019",
   "metadata": {},
   "outputs": [],
   "source": [
    "import numpy as np\n",
    "from sklearn.linear_model import LinearRegression\n",
    "\n",
    "X = np.array([[1.2],\n",
    "              [2.4],\n",
    "              [3.1],\n",
    "              [2.3],\n",
    "              [1.8],\n",
    "              [1.6],\n",
    "              [2.7],\n",
    "              [3.5]])\n",
    "\n",
    "\n",
    "y = np.array([2.5, 3.5, 4.0, 3.0, 2.0, 2.2, 3.8, 4.5])\n",
    "\n",
    "model = LinearRegression()\n",
    "\n",
    "\n",
    "model.fit(X, y)\n",
    "\n",
    "\n",
    "new_data = np.array([[2.0], [3.0]])\n",
    "predictions = model.predict(new_data)\n",
    "\n",
    "for prediction in predictions:\n",
    "    print(\"Prediction:\", prediction)\n"
   ]
  }
 ],
 "metadata": {
  "kernelspec": {
   "display_name": "Python 3 (ipykernel)",
   "language": "python",
   "name": "python3"
  },
  "language_info": {
   "codemirror_mode": {
    "name": "ipython",
    "version": 3
   },
   "file_extension": ".py",
   "mimetype": "text/x-python",
   "name": "python",
   "nbconvert_exporter": "python",
   "pygments_lexer": "ipython3",
   "version": "3.10.9"
  }
 },
 "nbformat": 4,
 "nbformat_minor": 5
}
